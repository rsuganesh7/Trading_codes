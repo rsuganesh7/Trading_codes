{
 "cells": [
  {
   "cell_type": "code",
   "execution_count": null,
   "metadata": {},
   "outputs": [],
   "source": [
    "import pandas as pd\n",
    "import numpy as np\n",
    "import pandas_ta as ta\n",
    "import plotly.graph_objects as go\n",
    "import plotly.express as px\n",
    "import yfinance as yf"
   ]
  },
  {
   "cell_type": "code",
   "execution_count": null,
   "metadata": {},
   "outputs": [],
   "source": [
    "data =  pd.read_csv('nifty_200/5M/ABCAPITAL.csv')"
   ]
  },
  {
   "cell_type": "code",
   "execution_count": null,
   "metadata": {},
   "outputs": [],
   "source": [
    "data['Datetime'] = pd.to_datetime(data['Datetime'])\n",
    "data.set_index('Datetime',inplace=True)"
   ]
  },
  {
   "cell_type": "code",
   "execution_count": null,
   "metadata": {},
   "outputs": [],
   "source": [
    "\n",
    "def calculate_macd(data, fast, slow, signal):\n",
    "    data['MACD_F'] = data.ta.macd(fast=fast, slow=slow, signal=signal)[f'MACD_{fast}_{slow}_{signal}']\n",
    "    data['MACD_S'] = data.ta.macd(fast=fast, slow=slow, signal=signal)[f'MACDs_{fast}_{slow}_{signal}']\n",
    "    data['MACD_H'] = data.ta.macd(fast=fast, slow=slow, signal=signal)[f'MACDh_{fast}_{slow}_{signal}']\n",
    "    return data\n"
   ]
  },
  {
   "cell_type": "code",
   "execution_count": null,
   "metadata": {},
   "outputs": [],
   "source": [
    "def custom_resample(df, start='09:15', end='15:30', freq='1f'):\n",
    "    df = df.between_time(start, end)\n",
    "    return df.resample(freq, offset='0h15min').agg(\n",
    "        {\n",
    "            'Open': 'first',\n",
    "            'High': 'max',\n",
    "            'Low': 'min',\n",
    "            'Close': 'last',\n",
    "            'Volume': 'sum',\n",
    "        }\n",
    "    )\n"
   ]
  },
  {
   "cell_type": "code",
   "execution_count": null,
   "metadata": {},
   "outputs": [],
   "source": [
    "def calculate_pivot_levels(high, low, close):\n",
    "    pp = (high + low + close) / 3\n",
    "    tc = (pp + high) / 2\n",
    "    bc = (pp + low) / 2\n",
    "    r1 = 2 * pp - low\n",
    "    r2 = pp + (high - low)\n",
    "    r3 = high + 2 * (pp - low)\n",
    "    s1 = 2 * pp - high\n",
    "    s2 = pp - (high - low)\n",
    "    s3 = low - 2 * (high - pp)\n",
    "    \n",
    "    return pp, tc, bc, r1, r2, r3, s1, s2, s3"
   ]
  },
  {
   "cell_type": "code",
   "execution_count": null,
   "metadata": {},
   "outputs": [],
   "source": [
    "def apply_pivots(df):\n",
    "    # Shift OHLC columns to get yesterday's data\n",
    "    df['Prev_High'] = df['High'].shift(1)\n",
    "    df['Prev_Low'] = df['Low'].shift(1)\n",
    "    df['Prev_Close'] = df['Close'].shift(1)\n",
    "\n",
    "    # Apply the function to calculate pivot levels using yesterday's data\n",
    "    df[['PP', 'TC', 'BC', 'R1', 'R2', 'R3', 'S1', 'S2', 'S3']] = df.apply(\n",
    "        lambda row: calculate_pivot_levels(row['Prev_High'], row['Prev_Low'], row['Prev_Close']), \n",
    "        axis=1, \n",
    "        result_type='expand'\n",
    "    )\n",
    "    return df\n"
   ]
  },
  {
   "cell_type": "code",
   "execution_count": null,
   "metadata": {},
   "outputs": [],
   "source": [
    "df_daily = custom_resample(data,freq='D').dropna()"
   ]
  },
  {
   "cell_type": "code",
   "execution_count": null,
   "metadata": {},
   "outputs": [],
   "source": [
    "df_daily = apply_pivots(df_daily)"
   ]
  },
  {
   "cell_type": "code",
   "execution_count": null,
   "metadata": {},
   "outputs": [],
   "source": [
    "data['Date'] = pd.to_datetime(data.index).date"
   ]
  },
  {
   "cell_type": "code",
   "execution_count": null,
   "metadata": {},
   "outputs": [],
   "source": [
    "data['VWMA_10'] = ta.vwma(data['Close'],volume=data['Volume'], length=10)\n",
    "data['Supertrend'] = data.ta.supertrend(length=10, multiplier=4)['SUPERT_10_4.0']\n"
   ]
  },
  {
   "cell_type": "code",
   "execution_count": null,
   "metadata": {},
   "outputs": [],
   "source": [
    "df_daily['Date'] =  df_daily.index.date"
   ]
  },
  {
   "cell_type": "code",
   "execution_count": null,
   "metadata": {},
   "outputs": [],
   "source": [
    "data.reset_index(inplace=True)"
   ]
  },
  {
   "cell_type": "code",
   "execution_count": null,
   "metadata": {},
   "outputs": [],
   "source": [
    "df_daily[pd.isna(df_daily['PP'])]"
   ]
  },
  {
   "cell_type": "code",
   "execution_count": null,
   "metadata": {},
   "outputs": [],
   "source": [
    "df_daily['%CPR'] = abs(df_daily['TC'] - df_daily['BC'])/df_daily['PP']"
   ]
  },
  {
   "cell_type": "code",
   "execution_count": null,
   "metadata": {},
   "outputs": [],
   "source": [
    "df_daily['%CPR'].mean()"
   ]
  },
  {
   "cell_type": "code",
   "execution_count": null,
   "metadata": {},
   "outputs": [],
   "source": [
    "fully_merged   =  pd.merge(data.dropna(),df_daily[[ 'Date','PP', 'TC', 'BC', 'R1', 'R2', 'R3', 'S1', 'S2', 'S3','%CPR']].dropna(), on='Date', how='left')"
   ]
  },
  {
   "cell_type": "code",
   "execution_count": null,
   "metadata": {},
   "outputs": [],
   "source": [
    "fully_merged[pd.isna(fully_merged['PP'] )]"
   ]
  },
  {
   "cell_type": "code",
   "execution_count": null,
   "metadata": {},
   "outputs": [],
   "source": [
    "fully_merged = fully_merged.fillna(method='ffill').dropna()"
   ]
  },
  {
   "cell_type": "code",
   "execution_count": null,
   "metadata": {},
   "outputs": [],
   "source": [
    "fully_merged.set_index('Datetime',inplace=True)"
   ]
  },
  {
   "cell_type": "code",
   "execution_count": null,
   "metadata": {},
   "outputs": [],
   "source": [
    "fully_merged"
   ]
  },
  {
   "cell_type": "code",
   "execution_count": null,
   "metadata": {},
   "outputs": [],
   "source": [
    "fully_merged['Signal'] = np.where(\n",
    "    (fully_merged['Close'] > fully_merged['R1']) & \n",
    "    (fully_merged['VWMA_10'] > fully_merged['R1']) & \n",
    "    (fully_merged['VWMA_10'].shift(1) < fully_merged['R1'].shift(1)), \n",
    "    1, \n",
    "   (np.where( (fully_merged['Close'] < fully_merged['S1']) & \n",
    "    (fully_merged['VWMA_10'] < fully_merged['S1']) & \n",
    "    (fully_merged['VWMA_10'].shift(1) > fully_merged['S1'].shift(1)), \n",
    "    -1, 0))\n",
    ")"
   ]
  },
  {
   "cell_type": "code",
   "execution_count": null,
   "metadata": {},
   "outputs": [],
   "source": [
    "fully_merged.to_csv('fullymerged.csv')"
   ]
  },
  {
   "cell_type": "code",
   "execution_count": null,
   "metadata": {},
   "outputs": [],
   "source": [
    "# Define exit conditions based on the user's criteria\n",
    "fully_merged['Exit_Condition'] = np.where(\n",
    "    \n",
    "    ((fully_merged['Close'] < fully_merged['TC']) | \n",
    "     (fully_merged['VWMA_10'] < fully_merged['PP'])),\n",
    "    1, \n",
    "    np.where(\n",
    "        ((fully_merged['Close'] > fully_merged['TC']) | \n",
    "         (fully_merged['VWMA_10'] > fully_merged['PP'])),\n",
    "        -1, 0)\n",
    ")\n"
   ]
  },
  {
   "cell_type": "code",
   "execution_count": null,
   "metadata": {},
   "outputs": [],
   "source": [
    "# Define the conditions for generating signals\n",
    "fully_merged['Signal'] = np.where(\n",
    "    (fully_merged['Close'] > fully_merged['R1']) & \n",
    "    (fully_merged['VWMA_10'] > fully_merged['R1']) & \n",
    "    (fully_merged['VWMA_10'].shift(1) < fully_merged['R1'].shift(1)), \n",
    "    1, \n",
    "   (np.where( (fully_merged['Close'] < fully_merged['S1']) & \n",
    "    (fully_merged['VWMA_10'] < fully_merged['S1']) & \n",
    "    (fully_merged['VWMA_10'].shift(1) > fully_merged['S1'].shift(1)), \n",
    "    -1, 0))\n",
    ")\n"
   ]
  },
  {
   "cell_type": "code",
   "execution_count": null,
   "metadata": {},
   "outputs": [],
   "source": [
    "fully_merged['%CPR_condition'] = fully_merged['%CPR'] < 0.01\n"
   ]
  },
  {
   "cell_type": "code",
   "execution_count": null,
   "metadata": {},
   "outputs": [],
   "source": [
    "# Define target and stop-loss percentages\n",
    "target_pct = 0.02  # 2% target\n",
    "stop_loss_pct = 0.01  # 1% stop loss\n",
    "\n",
    "# Initialize variables to store entry prices\n",
    "buy_entry_price = None\n",
    "short_entry_price = None\n",
    "\n"
   ]
  },
  {
   "cell_type": "code",
   "execution_count": null,
   "metadata": {},
   "outputs": [],
   "source": [
    "# Buy Entry Condition\n",
    "fully_merged['Buy_Entry'] = (\n",
    "    (fully_merged['Close'] > fully_merged['R1']) &\n",
    "    (fully_merged['VWMA_10'].shift(1) <= fully_merged['R1'].shift(1)) & \n",
    "    (fully_merged['VWMA_10'] > fully_merged['R1']) &\n",
    "    fully_merged['%CPR_condition']\n",
    ")\n",
    "\n",
    "# Short Entry Condition\n",
    "fully_merged['Short_Entry'] = (\n",
    "    (fully_merged['Close'] < fully_merged['S1']) &\n",
    "    (fully_merged['VWMA_10'].shift(1) >= fully_merged['S1'].shift(1)) & \n",
    "    (fully_merged['VWMA_10'] < fully_merged['S1']) &\n",
    "    fully_merged['%CPR_condition']\n",
    ")\n"
   ]
  },
  {
   "cell_type": "code",
   "execution_count": null,
   "metadata": {},
   "outputs": [],
   "source": [
    "# Calculate entry prices and set target/stop-loss based on entry prices\n",
    "for i in range(len(fully_merged)):\n",
    "    if fully_merged['Buy_Entry'].iloc[i]:\n",
    "        buy_entry_price = fully_merged['Close'].iloc[i]\n",
    "        fully_merged.loc[fully_merged.index[i], 'Buy_Target'] = buy_entry_price * (1 + target_pct)\n",
    "        fully_merged.loc[fully_merged.index[i], 'Buy_Stop_Loss'] = buy_entry_price * (1 - stop_loss_pct)\n",
    "    elif fully_merged['Short_Entry'].iloc[i]:\n",
    "        short_entry_price = fully_merged['Close'].iloc[i]\n",
    "        fully_merged.loc[fully_merged.index[i], 'Short_Target'] = short_entry_price * (1 - target_pct)\n",
    "        fully_merged.loc[fully_merged.index[i], 'Short_Stop_Loss'] = short_entry_price * (1 + stop_loss_pct)\n",
    "    else:\n",
    "        # Carry forward the last calculated target and stop-loss\n",
    "        if buy_entry_price is not None:\n",
    "            fully_merged.loc[fully_merged.index[i], 'Buy_Target'] = fully_merged['Buy_Target'].iloc[i-1]\n",
    "            fully_merged.loc[fully_merged.index[i], 'Buy_Stop_Loss'] = fully_merged['Buy_Stop_Loss'].iloc[i-1]\n",
    "        if short_entry_price is not None:\n",
    "            fully_merged.loc[fully_merged.index[i], 'Short_Target'] = fully_merged['Short_Target'].iloc[i-1]\n",
    "            fully_merged.loc[fully_merged.index[i], 'Short_Stop_Loss'] = fully_merged['Short_Stop_Loss'].iloc[i-1]\n"
   ]
  },
  {
   "cell_type": "code",
   "execution_count": null,
   "metadata": {},
   "outputs": [],
   "source": [
    "\n",
    "# Buy Exit Condition\n",
    "fully_merged['Buy_Exit'] = (\n",
    "    (fully_merged['Close'] < fully_merged['TC']) |\n",
    "    (fully_merged['VWMA_10'].shift(1) >= fully_merged['PP'].shift(1)) & \n",
    "    (fully_merged['VWMA_10'] < fully_merged['PP'])|\n",
    "    (fully_merged['Close'] >= fully_merged['Buy_Target']) |  # Target Condition\n",
    "    (fully_merged['Close'] <= fully_merged['Buy_Stop_Loss'])  # Stop-Loss Condition\n",
    ")\n",
    "\n",
    "# Short Exit Condition\n",
    "fully_merged['Short_Exit'] = (\n",
    "    (fully_merged['Close'] > fully_merged['BC']) |\n",
    "    (fully_merged['VWMA_10'].shift(1) <= fully_merged['PP'].shift(1)) & \n",
    "    (fully_merged['VWMA_10'] > fully_merged['PP'])|\n",
    "    (fully_merged['Close'] <= fully_merged['Short_Target']) |  # Target Condition\n",
    "    (fully_merged['Close'] >= fully_merged['Short_Stop_Loss'])  # Stop-Loss Condition\n",
    ")\n"
   ]
  },
  {
   "cell_type": "code",
   "execution_count": null,
   "metadata": {},
   "outputs": [],
   "source": [
    "fully_merged"
   ]
  },
  {
   "cell_type": "code",
   "execution_count": null,
   "metadata": {},
   "outputs": [],
   "source": [
    "# Initialize variables\n",
    "initial_cash = 100000  # Starting with 100,000 units of currency\n",
    "cash = initial_cash\n",
    "position = 0  # Current position: 0 means no position, 1 means long, -1 means short\n",
    "entry_price = 0\n",
    "trade_history = []\n",
    "risk_per_trade = 0.01  # Risk 1% of current cash balance per trade\n",
    "target_pct = 0.02  # 2% target\n",
    "stop_loss_pct = 0.01  # 1% stop loss\n"
   ]
  },
  {
   "cell_type": "code",
   "execution_count": null,
   "metadata": {},
   "outputs": [],
   "source": [
    "import pandas as pd\n",
    "import numpy as np\n",
    "\n",
    "# Assume fully_merged is your DataFrame with all the calculated conditions\n",
    "\n",
    "# Define target and stop-loss percentages\n",
    "target_pct = 0.02  # 2% target\n",
    "stop_loss_pct = 0.01  # 1% stop loss\n",
    "trade_charge = 40  # 40 units charge per trade\n",
    "\n",
    "# Initialize variables\n",
    "initial_cash = 100000  # Starting with 100,000 units of currency\n",
    "cash = initial_cash\n",
    "position = 0  # Current position: 0 means no position, 1 means long, -1 means short\n",
    "buy_entry_price = None\n",
    "short_entry_price = None\n",
    "trade_history = []\n",
    "\n",
    "# Iterate through the DataFrame\n",
    "for i in range(len(fully_merged)):\n",
    "    # Set up target and stop-loss for Buy Entry\n",
    "    if fully_merged['Buy_Entry'].iloc[i] and position == 0:\n",
    "        buy_entry_price = fully_merged['Close'].iloc[i]\n",
    "        target_price = buy_entry_price * (1 + target_pct)\n",
    "        stop_loss_price = buy_entry_price * (1 - stop_loss_pct)\n",
    "        position = 1\n",
    "        position_size = cash * 0.01 / (buy_entry_price - stop_loss_price)\n",
    "        cash -= buy_entry_price * position_size + trade_charge  # Include trade charge\n",
    "        trade_history.append({\n",
    "            'Datetime': fully_merged.index[i], \n",
    "            'Type': 'Buy', \n",
    "            'Price': buy_entry_price, \n",
    "            'Size': position_size,\n",
    "            'Target': target_price,\n",
    "            'Stop_Loss': stop_loss_price\n",
    "        })\n",
    "\n",
    "    # Set up target and stop-loss for Short Entry\n",
    "    elif fully_merged['Short_Entry'].iloc[i] and position == 0:\n",
    "        short_entry_price = fully_merged['Close'].iloc[i]\n",
    "        target_price = short_entry_price * (1 - target_pct)\n",
    "        stop_loss_price = short_entry_price * (1 + stop_loss_pct)\n",
    "        position = -1\n",
    "        position_size = cash * 0.01 / (stop_loss_price - short_entry_price)\n",
    "        cash += short_entry_price * position_size - trade_charge  # Include trade charge\n",
    "        trade_history.append({\n",
    "            'Datetime': fully_merged.index[i], \n",
    "            'Type': 'Short', \n",
    "            'Price': short_entry_price, \n",
    "            'Size': position_size,\n",
    "            'Target': target_price,\n",
    "            'Stop_Loss': stop_loss_price\n",
    "        })\n",
    "\n",
    "    # Exit conditions for Buy position\n",
    "    if position == 1:\n",
    "        if fully_merged['Close'].iloc[i] >= target_price:  # Target hit\n",
    "            exit_price = target_price\n",
    "            cash += exit_price * position_size - trade_charge  # Include trade charge\n",
    "            position = 0\n",
    "            profit = (exit_price - buy_entry_price) * position_size - trade_charge\n",
    "            trade_history.append({\n",
    "                'Datetime': fully_merged.index[i], \n",
    "                'Type': 'Sell (Target)', \n",
    "                'Price': exit_price, \n",
    "                'Profit': profit\n",
    "            })\n",
    "        elif fully_merged['Close'].iloc[i] <= stop_loss_price:  # Stop-loss hit\n",
    "            exit_price = stop_loss_price\n",
    "            cash += exit_price * position_size - trade_charge  # Include trade charge\n",
    "            position = 0\n",
    "            profit = (exit_price - buy_entry_price) * position_size - trade_charge\n",
    "            trade_history.append({\n",
    "                'Datetime': fully_merged.index[i], \n",
    "                'Type': 'Sell (Stop Loss)', \n",
    "                'Price': exit_price, \n",
    "                'Profit': profit\n",
    "            })\n",
    "        elif fully_merged['Buy_Exit'].iloc[i]:  # Regular exit condition\n",
    "            exit_price = fully_merged['Close'].iloc[i]\n",
    "            cash += exit_price * position_size - trade_charge  # Include trade charge\n",
    "            position = 0\n",
    "            profit = (exit_price - buy_entry_price) * position_size - trade_charge\n",
    "            trade_history.append({\n",
    "                'Datetime': fully_merged.index[i], \n",
    "                'Type': 'Sell (Exit)', \n",
    "                'Price': exit_price, \n",
    "                'Profit': profit\n",
    "            })\n",
    "\n",
    "    # Exit conditions for Short position\n",
    "    if position == -1:\n",
    "        if fully_merged['Close'].iloc[i] <= target_price:  # Target hit\n",
    "            exit_price = target_price\n",
    "            cash -= exit_price * position_size + trade_charge  # Include trade charge\n",
    "            position = 0\n",
    "            profit = (short_entry_price - exit_price) * position_size - trade_charge\n",
    "            trade_history.append({\n",
    "                'Datetime': fully_merged.index[i], \n",
    "                'Type': 'Cover (Target)', \n",
    "                'Price': exit_price, \n",
    "                'Profit': profit\n",
    "            })\n",
    "        elif fully_merged['Close'].iloc[i] >= stop_loss_price:  # Stop-loss hit\n",
    "            exit_price = stop_loss_price\n",
    "            cash -= exit_price * position_size + trade_charge  # Include trade charge\n",
    "            position = 0\n",
    "            profit = (short_entry_price - exit_price) * position_size - trade_charge\n",
    "            trade_history.append({\n",
    "                'Datetime': fully_merged.index[i], \n",
    "                'Type': 'Cover (Stop Loss)', \n",
    "                'Price': exit_price, \n",
    "                'Profit': profit\n",
    "            })\n",
    "        elif fully_merged['Short_Exit'].iloc[i]:  # Regular exit condition\n",
    "            exit_price = fully_merged['Close'].iloc[i]\n",
    "            cash -= exit_price * position_size + trade_charge  # Include trade charge\n",
    "            position = 0\n",
    "            profit = (short_entry_price - exit_price) * position_size - trade_charge\n",
    "            trade_history.append({\n",
    "                'Datetime': fully_merged.index[i], \n",
    "                'Type': 'Cover (Exit)', \n",
    "                'Price': exit_price, \n",
    "                'Profit': profit\n",
    "            })\n",
    "\n",
    "    # Check for end of day (intraday close)\n",
    "    if fully_merged.index[i].time() == pd.to_datetime(\"15:15\").time() and position != 0:\n",
    "        exit_price = fully_merged['Close'].iloc[i]\n",
    "        if position == 1:  # If in a long position\n",
    "            cash += exit_price * position_size - trade_charge  # Include trade charge\n",
    "            trade_history.append({\n",
    "                'Datetime': fully_merged.index[i], \n",
    "                'Type': 'Sell (End of Day)', \n",
    "                'Price': exit_price, \n",
    "                'Profit': (exit_price - buy_entry_price) * position_size - trade_charge\n",
    "            })\n",
    "        elif position == -1:  # If in a short position\n",
    "            cash -= exit_price * position_size + trade_charge  # Include trade charge\n",
    "            trade_history.append({\n",
    "                'Datetime': fully_merged.index[i], \n",
    "                'Type': 'Cover (End of Day)', \n",
    "                'Price': exit_price, \n",
    "                'Profit': (short_entry_price - exit_price) * position_size - trade_charge\n",
    "            })\n",
    "        position = 0  # Reset position to zero\n",
    "\n",
    "# Final Portfolio Value\n",
    "final_value = cash\n",
    "\n",
    "# Convert trade history to DataFrame\n",
    "trade_history_df = pd.DataFrame(trade_history)\n",
    "\n",
    "# Calculate KPIs\n",
    "total_trades = len(trade_history_df) // 2  # Assuming Buy/Sell pairs or Short/Cover pairs\n",
    "winning_trades = trade_history_df[trade_history_df['Profit'] > 0]\n",
    "losing_trades = trade_history_df[trade_history_df['Profit'] <= 0]\n",
    "\n",
    "total_profit = trade_history_df['Profit'].sum()\n",
    "win_rate = len(winning_trades) / total_trades if total_trades > 0 else 0\n",
    "average_profit = trade_history_df['Profit'].mean()\n",
    "profit_factor = winning_trades['Profit'].sum() / abs(losing_trades['Profit'].sum()) if len(losing_trades) > 0 else np.inf\n",
    "max_drawdown = (trade_history_df['Profit'].cumsum().cummax() - trade_history_df['Profit'].cumsum()).max()\n",
    "sharpe_ratio = trade_history_df['Profit'].mean() / trade_history_df['Profit'].std() * np.sqrt(252) if trade_history_df['Profit'].std() > 0 else np.nan\n",
    "sortino_ratio = trade_history_df['Profit'].mean() / trade_history_df[trade_history_df['Profit'] < 0]['Profit'].std() * np.sqrt(252) if trade_history_df[trade_history_df['Profit'] < 0]['Profit'].std() > 0 else np.nan\n",
    "\n",
    "# Output Results\n",
    "print(f\"Initial Cash: {initial_cash}\")\n",
    "print(f\"Final Portfolio Value: {final_value}\")\n",
    "print(f\"Total Profit: {total_profit}\")\n",
    "print(f\"Return Percentage: {((final_value - initial_cash) / initial_cash) * 100:.2f}%\")\n",
    "print(f\"Number of Trades: {total_trades}\")\n",
    "print(f\"Win Rate: {win_rate:.2f}\")\n",
    "print(f\"Average Profit/Loss per Trade: {average_profit:.2f}\")\n",
    "print(f\"Profit Factor: {profit_factor:.2f}\")\n",
    "print(f\"Max Drawdown: {max_drawdown:.2f}\")\n",
    "print(f\"Sharpe Ratio: {sharpe_ratio:.2f}\")\n",
    "print(f\"Sortino Ratio: {sortino_ratio:.2f}\")\n",
    "\n"
   ]
  },
  {
   "cell_type": "code",
   "execution_count": null,
   "metadata": {},
   "outputs": [],
   "source": []
  }
 ],
 "metadata": {
  "kernelspec": {
   "display_name": ".venv",
   "language": "python",
   "name": "python3"
  },
  "language_info": {
   "codemirror_mode": {
    "name": "ipython",
    "version": 3
   },
   "file_extension": ".py",
   "mimetype": "text/x-python",
   "name": "python",
   "nbconvert_exporter": "python",
   "pygments_lexer": "ipython3",
   "version": "3.12.3"
  }
 },
 "nbformat": 4,
 "nbformat_minor": 2
}
