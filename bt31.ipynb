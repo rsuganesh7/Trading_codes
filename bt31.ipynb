{
 "cells": [
  {
   "cell_type": "code",
   "execution_count": null,
   "metadata": {},
   "outputs": [],
   "source": [
    "import yfinance as yf\n",
    "import pandas as pd\n",
    "import numpy as np\n",
    "import pandas_ta as ta"
   ]
  },
  {
   "cell_type": "code",
   "execution_count": null,
   "metadata": {},
   "outputs": [],
   "source": [
    "SBIN_1HR = yf.download('SBIN.NS',interval='1h',period='2y')"
   ]
  },
  {
   "cell_type": "code",
   "execution_count": null,
   "metadata": {},
   "outputs": [],
   "source": [
    "SBIN_1HR"
   ]
  },
  {
   "cell_type": "code",
   "execution_count": null,
   "metadata": {},
   "outputs": [],
   "source": [
    "df = SBIN_1HR.copy()\n",
    "df_daily = df.resample('D').agg({\n",
    "    'Open': 'first',\n",
    "    'High': 'max',\n",
    "    'Low': 'min',\n",
    "    'Close': 'last'\n",
    "}).dropna()\n"
   ]
  },
  {
   "cell_type": "code",
   "execution_count": null,
   "metadata": {},
   "outputs": [],
   "source": [
    "df_daily"
   ]
  },
  {
   "cell_type": "code",
   "execution_count": null,
   "metadata": {},
   "outputs": [],
   "source": [
    "\n",
    "# Calculate daily pivot points\n",
    "df_daily['Pivot Point'] = (df_daily['High'] + df_daily['Low'] + df_daily['Close']) / 3\n",
    "df_daily['TC'] = (df_daily['Pivot Point'] * 2) - df_daily['Low']  # Top Central Pivot\n",
    "df_daily['BC'] = (df_daily['Pivot Point'] * 2) - df_daily['High']  # Bottom Central Pivot\n",
    "df_daily['CPR Width'] = df_daily['TC'] - df_daily['BC']  # Calculate CPR width\n",
    "df_daily['R1'] = df_daily['Pivot Point'] + df_daily['CPR Width'] / 2\n",
    "df_daily['S1'] = df_daily['Pivot Point'] - df_daily['CPR Width'] / 2\n",
    "df_daily['R2'] = df_daily['Pivot Point'] + df_daily['CPR Width']\n",
    "df_daily['S2'] = df_daily['Pivot Point'] - df_daily['CPR Width']\n",
    "df_daily['R3'] = df_daily['Pivot Point'] + df_daily['CPR Width'] * 1.5\n",
    "df_daily['S3'] = df_daily['Pivot Point'] - df_daily['CPR Width'] * 1.5\n",
    "df_daily['Date'] = df_daily.index.date\n",
    "df_daily['%CPR'] = abs((df_daily['CPR Width'] / df_daily['Pivot Point']) * 100)\n",
    "df['Date'] = df.index.date\n",
    "df['Time'] = df.index.time\n",
    "df['EMA_10'] = ta.ema(df['Close'], length=10)\n",
    "df['EMA_20'] = ta.ema(df['Close'], length=20)\n"
   ]
  },
  {
   "cell_type": "code",
   "execution_count": null,
   "metadata": {},
   "outputs": [],
   "source": [
    "\n",
    "# Calculate VWAP using pandas_ta\n",
    "df['VWMA'] = ta.vwma(df['Close'], df['Volume'],length=10)\n",
    "\n",
    "# Calculate MACD using pandas_ta\n",
    "macd = ta.macd(df['Close'], fast=12, slow=26, signal=9)\n",
    "df = pd.concat([df, macd], axis=1)\n",
    "\n",
    "# Calculate RSI using pandas_ta\n",
    "df['RSI'] = ta.rsi(df['Close'], length=14)\n",
    "\n"
   ]
  },
  {
   "cell_type": "code",
   "execution_count": null,
   "metadata": {},
   "outputs": [],
   "source": [
    "\n",
    "# Filter the results to only include necessary columns\n",
    "df_daily_cpr = df_daily.drop(columns=['Open', 'High', 'Low', 'Close'])\n",
    "\n",
    "# Merge daily CPR data with the intraday data\n",
    "df_merged = pd.merge(df, df_daily_cpr, on='Date', how='left')\n",
    "\n",
    "# Debug: Print columns after merge\n",
    "print(\"Columns after merge:\", df_merged.columns)\n",
    "\n",
    "# Drop the 'Date' column as it's no longer needed after the merge\n",
    "df_merged['Datetime'] = pd.to_datetime(df_merged['Date'].astype(str) + ' ' + df_merged['Time'].astype(str))\n",
    "df_merged.set_index('Datetime', inplace=True)\n"
   ]
  },
  {
   "cell_type": "code",
   "execution_count": null,
   "metadata": {},
   "outputs": [],
   "source": [
    "\n",
    "# Ensure the 'TC' and 'BC' columns exist before forward filling\n",
    "if 'TC' in df_merged.columns:\n",
    "    df_merged['TC'] = df_merged['TC'].ffill()\n",
    "else:\n",
    "    print(\"Error: 'TC' column not found after merging. Check your data.\")\n",
    "\n",
    "if 'BC' in df_merged.columns:\n",
    "    df_merged['BC'] = df_merged['BC'].ffill()\n",
    "else:\n",
    "    print(\"Error: 'BC' column not found after merging. Check your data.\")\n",
    "\n",
    "# Calculate CPR (Central Pivot Range)\n",
    "df_merged['CPR'] = df_merged['TC'] - df_merged['BC']\n",
    "\n",
    "# Ensure df_merged has a DatetimeIndex\n",
    "if not isinstance(df_merged.index, pd.DatetimeIndex):\n",
    "    df_merged.index = pd.to_datetime(df_merged.index)\n",
    "\n",
    "# Filter the DataFrame for the desired trading time window\n",
    "# df_merged = df_merged.between_time('09:20', '15:15')\n",
    "df_merged"
   ]
  },
  {
   "cell_type": "markdown",
   "metadata": {},
   "source": [
    "## Buy Entry Condition\n",
    "1. RSI  > 60 and %CPR < 0.5%\n",
    "2. today PP > Previous day PP\n",
    "3. VWMA crosses above R1\n",
    "\n",
    "# Exit Buy\n",
    "1. Sl =0.5% or PP\n",
    "2. After buying, if close and ema above R1, and close crosses below R1\n",
    "3. Target s 1.5% or R3\n"
   ]
  },
  {
   "cell_type": "code",
   "execution_count": null,
   "metadata": {},
   "outputs": [],
   "source": [
    "\n",
    "# Initialize the 'Entry_Price' and 'Exit_Price' columns\n",
    "df_merged['Entry_Price'] = np.nan\n",
    "df_merged['Exit_Price'] = np.nan\n",
    "\n",
    "# Entry Conditions\n",
    "df_merged['Buy_Entry'] = (\n",
    "    (df_merged['Time'] >= pd.to_datetime('09:15:00').time()) &\n",
    "    (df_merged['Time'] <= pd.to_datetime('15:00:00').time()) &\n",
    "    (df_merged['RSI'] > 60) &\n",
    "    (df_merged['%CPR'] < 0.5) &\n",
    "    (df_merged['Pivot Point'] > df_merged['Pivot Point'].shift(1)) &\n",
    "    (df_merged['VWMA'] > df_merged['R1']) &\n",
    "    (df_merged['VWMA'].shift(1) <= df_merged['R1'].shift(1))  # VWMA crosses above R1\n",
    ")\n"
   ]
  },
  {
   "cell_type": "code",
   "execution_count": null,
   "metadata": {},
   "outputs": [],
   "source": [
    "df_merged[df_merged['Buy_Entry']]"
   ]
  },
  {
   "cell_type": "code",
   "execution_count": null,
   "metadata": {},
   "outputs": [],
   "source": [
    "# Initialize the 'Entry_Price', 'Exit_Price', and other required columns\n",
    "df_merged['Entry_Price'] = np.nan\n",
    "df_merged['Exit_Price'] = np.nan\n",
    "df_merged['Profit/Loss'] = np.nan\n",
    "df_merged['Trade_Return'] = np.nan\n",
    "df_merged['Cumulative_Return'] = np.nan\n",
    "\n",
    "# Initialize additional KPI variables\n",
    "trades = []\n",
    "winning_trades = 0\n",
    "losing_trades = 0\n",
    "max_drawdown = 0\n",
    "cumulative_return = 1\n",
    "\n"
   ]
  },
  {
   "cell_type": "code",
   "execution_count": null,
   "metadata": {},
   "outputs": [],
   "source": [
    "# Loop through the data to manage trades\n",
    "for i in range(1, len(df_merged)):\n",
    "    if df_merged.iloc[i]['Buy_Entry']:\n",
    "        entry_price = df_merged.iloc[i]['Close']\n",
    "        df_merged.iloc[i, df_merged.columns.get_loc('Entry_Price')] = entry_price\n",
    "        \n",
    "        # Monitor for Exit\n",
    "        for j in range(i+1, len(df_merged)):\n",
    "            df_merged.iloc[j, df_merged.columns.get_loc('Entry_Price')] = entry_price  # Carry forward the entry price for exit conditions\n",
    "            \n",
    "            # Exit Conditions\n",
    "            exit_condition = (\n",
    "                (df_merged.iloc[j]['Close'] < df_merged.iloc[j]['R1']) & \n",
    "                (df_merged.iloc[j]['Close'] > entry_price * 0.985) &  # SL at 0.5% below entry\n",
    "                (df_merged.iloc[j]['Close'] < entry_price * 1.015)    # Target at 1.5% above entry\n",
    "            )\n",
    "            \n",
    "            time_condition = df_merged.iloc[j]['Time'] >= pd.to_datetime('15:00:00').time()\n",
    "            \n",
    "            if exit_condition.any() or time_condition:\n",
    "                exit_price = df_merged.iloc[j]['Close']\n",
    "                df_merged.iloc[j, df_merged.columns.get_loc('Exit_Price')] = exit_price\n",
    "                \n",
    "                # Calculate Profit/Loss\n",
    "                profit_loss = exit_price - entry_price\n",
    "                df_merged.iloc[j, df_merged.columns.get_loc('Profit/Loss')] = profit_loss\n",
    "                \n",
    "                # Calculate Trade Return\n",
    "                trade_return = (exit_price / entry_price) - 1\n",
    "                df_merged.iloc[j, df_merged.columns.get_loc('Trade_Return')] = trade_return\n",
    "                \n",
    "                # Update cumulative return\n",
    "                cumulative_return *= (1 + trade_return)\n",
    "                df_merged.iloc[j, df_merged.columns.get_loc('Cumulative_Return')] = cumulative_return\n",
    "                \n",
    "                # Track trades for KPIs\n",
    "                trades.append(profit_loss)\n",
    "                if profit_loss > 0:\n",
    "                    winning_trades += 1\n",
    "                else:\n",
    "                    losing_trades += 1\n",
    "\n",
    "                # Calculate drawdown\n",
    "                peak = max(cumulative_return, 1)\n",
    "                drawdown = (peak - cumulative_return) / peak\n",
    "                max_drawdown = max(max_drawdown, drawdown)\n",
    "                \n",
    "                break\n"
   ]
  },
  {
   "cell_type": "code",
   "execution_count": null,
   "metadata": {},
   "outputs": [],
   "source": [
    "# Calculate KPIs\n",
    "total_trades = len(trades)\n",
    "total_profit = sum(trades)\n",
    "average_trade_return = np.mean(df_merged['Trade_Return'].dropna())\n",
    "win_loss_ratio = winning_trades / max(losing_trades, 1)\n",
    "cumulative_return_pct = (cumulative_return - 1) * 100\n",
    "\n",
    "# Print KPIs\n",
    "print(\"Total Trades:\", total_trades)\n",
    "print(\"Total Profit/Loss:\", total_profit)\n",
    "print(\"Average Trade Return:\", average_trade_return)\n",
    "print(\"Win/Loss Ratio:\", win_loss_ratio)\n",
    "print(\"Cumulative Return (%):\", cumulative_return_pct)\n",
    "print(\"Max Drawdown:\", max_drawdown)\n",
    "\n",
    "# Display the first few rows of the resulting DataFrame with KPIs\n",
    "df_merged[df_merged['Buy_Entry']]\n",
    "\n",
    "\n"
   ]
  },
  {
   "cell_type": "code",
   "execution_count": null,
   "metadata": {},
   "outputs": [],
   "source": [
    "df_merged[df_merged['Exit_Price'].notna()]\n"
   ]
  },
  {
   "cell_type": "code",
   "execution_count": null,
   "metadata": {},
   "outputs": [],
   "source": [
    "\n",
    "# Calculate EMA using pandas_ta\n",
    "\n",
    "# Generate buy/sell signals based on conditions (example condition below)\n",
    "df_merged['Signal'] = 0\n",
    "\n",
    "\n",
    "# Create a DataFrame for trades\n",
    "trades = []\n",
    "position = 0\n",
    "entry_price = 0\n",
    "\n",
    "for index, row in df_merged.iterrows():\n",
    "    if row['Signal'] == 1 and position == 0:\n",
    "        position = 1\n",
    "        entry_price = row['Close']\n",
    "        trades.append({'Time': index, 'Entry Price': entry_price})\n",
    "    elif row['Signal'] == -1 and position == 1:\n",
    "        position = 0\n",
    "        exit_price = row['Close']\n",
    "        profit = exit_price - entry_price\n",
    "        trades[-1].update({'Exit Price': exit_price, 'Profit': profit})\n",
    "\n",
    "trades_df = pd.DataFrame(trades)\n",
    "\n"
   ]
  },
  {
   "cell_type": "code",
   "execution_count": null,
   "metadata": {},
   "outputs": [],
   "source": [
    "trades_df"
   ]
  },
  {
   "cell_type": "code",
   "execution_count": null,
   "metadata": {},
   "outputs": [],
   "source": []
  }
 ],
 "metadata": {
  "kernelspec": {
   "display_name": ".venv",
   "language": "python",
   "name": "python3"
  },
  "language_info": {
   "codemirror_mode": {
    "name": "ipython",
    "version": 3
   },
   "file_extension": ".py",
   "mimetype": "text/x-python",
   "name": "python",
   "nbconvert_exporter": "python",
   "pygments_lexer": "ipython3",
   "version": "3.12.3"
  }
 },
 "nbformat": 4,
 "nbformat_minor": 2
}
