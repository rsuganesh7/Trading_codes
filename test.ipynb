{
 "cells": [
  {
   "cell_type": "code",
   "execution_count": 1,
   "metadata": {},
   "outputs": [],
   "source": [
    "from root.login_manager import LoginManager\n",
    "from root.hist_data import HistoricalData\n",
    "import pandas as pd\n",
    "import numpy as np\n",
    "import matplotlib.pyplot as plt\n",
    "import plotly.graph_objects as go\n",
    "import pandas_ta as ta\n"
   ]
  },
  {
   "cell_type": "code",
   "execution_count": 2,
   "metadata": {},
   "outputs": [
    {
     "name": "stdout",
     "output_type": "stream",
     "text": [
      "THe login manager is created\n"
     ]
    }
   ],
   "source": [
    "login_manager = LoginManager()"
   ]
  },
  {
   "cell_type": "code",
   "execution_count": 3,
   "metadata": {},
   "outputs": [
    {
     "name": "stderr",
     "output_type": "stream",
     "text": [
      "[I 240807 12:59:56 smartConnect:121] in pool\n"
     ]
    }
   ],
   "source": [
    "obj, data, user_profile = login_manager.login_and_retrieve_info()"
   ]
  },
  {
   "cell_type": "code",
   "execution_count": 4,
   "metadata": {},
   "outputs": [],
   "source": [
    "sbin_hist_data  = HistoricalData(obj, 'NSE', 600, 'SBIN')"
   ]
  },
  {
   "cell_type": "code",
   "execution_count": 5,
   "metadata": {},
   "outputs": [
    {
     "name": "stdout",
     "output_type": "stream",
     "text": [
      "The params are: {'exchange': 'NSE', 'symboltoken': '3045', 'interval': 'THREE_MINUTE', 'fromdate': '2022-12-16 09:15', 'todate': '2024-08-07 00:00'}\n"
     ]
    },
    {
     "name": "stderr",
     "output_type": "stream",
     "text": [
      "/Users/suganeshr/Trading/root/hist_data.py:71: FutureWarning: The behavior of DataFrame concatenation with empty or all-NA entries is deprecated. In a future version, this will no longer exclude empty or all-NA columns when determining the result dtypes. To retain the old behavior, exclude the relevant entries before the concat operation.\n",
      "  df_data = pd.concat([temp, df_data], ignore_index=True)\n"
     ]
    },
    {
     "name": "stdout",
     "output_type": "stream",
     "text": [
      "The params are: {'exchange': 'NSE', 'symboltoken': '3045', 'interval': 'THREE_MINUTE', 'fromdate': '2022-12-16 09:15', 'todate': '2024-06-10 09:15'}\n",
      "The params are: {'exchange': 'NSE', 'symboltoken': '3045', 'interval': 'THREE_MINUTE', 'fromdate': '2022-12-16 09:15', 'todate': '2024-04-12 09:15'}\n",
      "The params are: {'exchange': 'NSE', 'symboltoken': '3045', 'interval': 'THREE_MINUTE', 'fromdate': '2022-12-16 09:15', 'todate': '2024-02-12 09:15'}\n",
      "The params are: {'exchange': 'NSE', 'symboltoken': '3045', 'interval': 'THREE_MINUTE', 'fromdate': '2022-12-16 09:15', 'todate': '2023-12-14 09:15'}\n",
      "The params are: {'exchange': 'NSE', 'symboltoken': '3045', 'interval': 'THREE_MINUTE', 'fromdate': '2022-12-16 09:15', 'todate': '2023-10-16 09:15'}\n",
      "The params are: {'exchange': 'NSE', 'symboltoken': '3045', 'interval': 'THREE_MINUTE', 'fromdate': '2022-12-16 09:15', 'todate': '2023-08-17 09:15'}\n",
      "The params are: {'exchange': 'NSE', 'symboltoken': '3045', 'interval': 'THREE_MINUTE', 'fromdate': '2022-12-16 09:15', 'todate': '2023-06-19 09:15'}\n",
      "The params are: {'exchange': 'NSE', 'symboltoken': '3045', 'interval': 'THREE_MINUTE', 'fromdate': '2022-12-16 09:15', 'todate': '2023-04-20 09:15'}\n",
      "The params are: {'exchange': 'NSE', 'symboltoken': '3045', 'interval': 'THREE_MINUTE', 'fromdate': '2022-12-16 09:15', 'todate': '2023-02-20 09:15'}\n",
      "The params are: {'exchange': 'NSE', 'symboltoken': '3045', 'interval': 'THREE_MINUTE', 'fromdate': '2022-12-16 09:15', 'todate': '2022-12-22 09:15'}\n"
     ]
    }
   ],
   "source": [
    "sbin_data_3M  = sbin_hist_data.hist_data_extended('THREE_MINUTE')"
   ]
  },
  {
   "cell_type": "code",
   "execution_count": 6,
   "metadata": {},
   "outputs": [],
   "source": [
    "sbin_data_3M.to_csv('sbin_3M.csv')"
   ]
  },
  {
   "cell_type": "code",
   "execution_count": 7,
   "metadata": {},
   "outputs": [
    {
     "name": "stdout",
     "output_type": "stream",
     "text": [
      "The params are: {'exchange': 'NSE', 'symboltoken': '3045', 'interval': 'FIVE_MINUTE', 'fromdate': '2022-12-16 09:15', 'todate': '2024-08-07 00:00'}\n"
     ]
    },
    {
     "name": "stderr",
     "output_type": "stream",
     "text": [
      "/Users/suganeshr/Trading/root/hist_data.py:71: FutureWarning: The behavior of DataFrame concatenation with empty or all-NA entries is deprecated. In a future version, this will no longer exclude empty or all-NA columns when determining the result dtypes. To retain the old behavior, exclude the relevant entries before the concat operation.\n",
      "  df_data = pd.concat([temp, df_data], ignore_index=True)\n"
     ]
    },
    {
     "name": "stdout",
     "output_type": "stream",
     "text": [
      "The params are: {'exchange': 'NSE', 'symboltoken': '3045', 'interval': 'FIVE_MINUTE', 'fromdate': '2022-12-16 09:15', 'todate': '2024-04-29 09:15'}\n",
      "The params are: {'exchange': 'NSE', 'symboltoken': '3045', 'interval': 'FIVE_MINUTE', 'fromdate': '2022-12-16 09:15', 'todate': '2024-01-20 09:15'}\n",
      "The params are: {'exchange': 'NSE', 'symboltoken': '3045', 'interval': 'FIVE_MINUTE', 'fromdate': '2022-12-16 09:15', 'todate': '2023-10-12 09:15'}\n",
      "The params are: {'exchange': 'NSE', 'symboltoken': '3045', 'interval': 'FIVE_MINUTE', 'fromdate': '2022-12-16 09:15', 'todate': '2023-07-04 09:15'}\n",
      "The params are: {'exchange': 'NSE', 'symboltoken': '3045', 'interval': 'FIVE_MINUTE', 'fromdate': '2022-12-16 09:15', 'todate': '2023-03-27 09:15'}\n",
      "The params are: {'exchange': 'NSE', 'symboltoken': '3045', 'interval': 'FIVE_MINUTE', 'fromdate': '2022-12-16 09:15', 'todate': '2022-12-19 09:15'}\n"
     ]
    }
   ],
   "source": [
    "sbin_data_5M  = sbin_hist_data.hist_data_extended('FIVE_MINUTE')"
   ]
  },
  {
   "cell_type": "code",
   "execution_count": 8,
   "metadata": {},
   "outputs": [],
   "source": [
    "sbin_data_5M['SMA_S'] = sbin_data_5M['close'].rolling(50).mean()\n",
    "sbin_data_5M['SMA_L'] = sbin_data_5M['close'].rolling(200).mean()\n"
   ]
  },
  {
   "cell_type": "code",
   "execution_count": 9,
   "metadata": {},
   "outputs": [],
   "source": [
    "sbin_data_5M.dropna(inplace=True)"
   ]
  },
  {
   "cell_type": "code",
   "execution_count": 10,
   "metadata": {},
   "outputs": [],
   "source": [
    "data = sbin_data_5M\n"
   ]
  },
  {
   "cell_type": "code",
   "execution_count": 23,
   "metadata": {},
   "outputs": [],
   "source": [
    "def plot_candlestic(data):\n",
    "    fig = go.Figure(data=[go.Candlestick(x=data.index,\n",
    "                open=data['open'],\n",
    "                high=data['high'],\n",
    "                low=data['low'],\n",
    "                close=data['close'])])\n",
    "    return fig"
   ]
  },
  {
   "cell_type": "code",
   "execution_count": 24,
   "metadata": {},
   "outputs": [],
   "source": [
    "# Create the candlestick chart\n",
    "df =data.tail(40)\n",
    "\n",
    "fig = plot_candlestic(df)"
   ]
  },
  {
   "cell_type": "code",
   "execution_count": 25,
   "metadata": {},
   "outputs": [],
   "source": [
    "data['ema'] = ta.ema(data['close'], length=10)\n",
    "data['RSI_10'] = ta.rsi(data['close'], length=10)"
   ]
  },
  {
   "cell_type": "code",
   "execution_count": 26,
   "metadata": {},
   "outputs": [
    {
     "data": {
      "text/html": [
       "<div>\n",
       "<style scoped>\n",
       "    .dataframe tbody tr th:only-of-type {\n",
       "        vertical-align: middle;\n",
       "    }\n",
       "\n",
       "    .dataframe tbody tr th {\n",
       "        vertical-align: top;\n",
       "    }\n",
       "\n",
       "    .dataframe thead th {\n",
       "        text-align: right;\n",
       "    }\n",
       "</style>\n",
       "<table border=\"1\" class=\"dataframe\">\n",
       "  <thead>\n",
       "    <tr style=\"text-align: right;\">\n",
       "      <th></th>\n",
       "      <th>open</th>\n",
       "      <th>high</th>\n",
       "      <th>low</th>\n",
       "      <th>close</th>\n",
       "      <th>volume</th>\n",
       "      <th>SMA_S</th>\n",
       "      <th>SMA_L</th>\n",
       "      <th>ema</th>\n",
       "      <th>RSI_10</th>\n",
       "    </tr>\n",
       "    <tr>\n",
       "      <th>date</th>\n",
       "      <th></th>\n",
       "      <th></th>\n",
       "      <th></th>\n",
       "      <th></th>\n",
       "      <th></th>\n",
       "      <th></th>\n",
       "      <th></th>\n",
       "      <th></th>\n",
       "      <th></th>\n",
       "    </tr>\n",
       "  </thead>\n",
       "  <tbody>\n",
       "    <tr>\n",
       "      <th>2022-12-20 13:20:00</th>\n",
       "      <td>601.90</td>\n",
       "      <td>602.30</td>\n",
       "      <td>601.75</td>\n",
       "      <td>602.05</td>\n",
       "      <td>33559</td>\n",
       "      <td>601.942</td>\n",
       "      <td>606.02150</td>\n",
       "      <td>NaN</td>\n",
       "      <td>NaN</td>\n",
       "    </tr>\n",
       "    <tr>\n",
       "      <th>2022-12-20 13:25:00</th>\n",
       "      <td>602.20</td>\n",
       "      <td>602.25</td>\n",
       "      <td>601.40</td>\n",
       "      <td>601.55</td>\n",
       "      <td>48398</td>\n",
       "      <td>601.873</td>\n",
       "      <td>605.96000</td>\n",
       "      <td>NaN</td>\n",
       "      <td>NaN</td>\n",
       "    </tr>\n",
       "    <tr>\n",
       "      <th>2022-12-20 13:30:00</th>\n",
       "      <td>601.45</td>\n",
       "      <td>601.70</td>\n",
       "      <td>601.00</td>\n",
       "      <td>601.35</td>\n",
       "      <td>53536</td>\n",
       "      <td>601.797</td>\n",
       "      <td>605.89475</td>\n",
       "      <td>NaN</td>\n",
       "      <td>NaN</td>\n",
       "    </tr>\n",
       "    <tr>\n",
       "      <th>2022-12-20 13:35:00</th>\n",
       "      <td>601.30</td>\n",
       "      <td>601.45</td>\n",
       "      <td>600.50</td>\n",
       "      <td>601.25</td>\n",
       "      <td>65565</td>\n",
       "      <td>601.714</td>\n",
       "      <td>605.83050</td>\n",
       "      <td>NaN</td>\n",
       "      <td>NaN</td>\n",
       "    </tr>\n",
       "    <tr>\n",
       "      <th>2022-12-20 13:40:00</th>\n",
       "      <td>601.05</td>\n",
       "      <td>601.35</td>\n",
       "      <td>600.55</td>\n",
       "      <td>601.15</td>\n",
       "      <td>63454</td>\n",
       "      <td>601.641</td>\n",
       "      <td>605.76150</td>\n",
       "      <td>NaN</td>\n",
       "      <td>NaN</td>\n",
       "    </tr>\n",
       "    <tr>\n",
       "      <th>...</th>\n",
       "      <td>...</td>\n",
       "      <td>...</td>\n",
       "      <td>...</td>\n",
       "      <td>...</td>\n",
       "      <td>...</td>\n",
       "      <td>...</td>\n",
       "      <td>...</td>\n",
       "      <td>...</td>\n",
       "      <td>...</td>\n",
       "    </tr>\n",
       "    <tr>\n",
       "      <th>2024-08-06 15:05:00</th>\n",
       "      <td>798.20</td>\n",
       "      <td>799.50</td>\n",
       "      <td>797.65</td>\n",
       "      <td>799.30</td>\n",
       "      <td>534191</td>\n",
       "      <td>810.098</td>\n",
       "      <td>823.19150</td>\n",
       "      <td>800.913757</td>\n",
       "      <td>26.127464</td>\n",
       "    </tr>\n",
       "    <tr>\n",
       "      <th>2024-08-06 15:10:00</th>\n",
       "      <td>799.30</td>\n",
       "      <td>799.40</td>\n",
       "      <td>797.15</td>\n",
       "      <td>798.20</td>\n",
       "      <td>432384</td>\n",
       "      <td>809.777</td>\n",
       "      <td>822.91750</td>\n",
       "      <td>800.420347</td>\n",
       "      <td>23.049063</td>\n",
       "    </tr>\n",
       "    <tr>\n",
       "      <th>2024-08-06 15:15:00</th>\n",
       "      <td>798.20</td>\n",
       "      <td>798.35</td>\n",
       "      <td>795.65</td>\n",
       "      <td>797.95</td>\n",
       "      <td>671366</td>\n",
       "      <td>809.440</td>\n",
       "      <td>822.64925</td>\n",
       "      <td>799.971193</td>\n",
       "      <td>22.383096</td>\n",
       "    </tr>\n",
       "    <tr>\n",
       "      <th>2024-08-06 15:20:00</th>\n",
       "      <td>797.90</td>\n",
       "      <td>798.00</td>\n",
       "      <td>796.00</td>\n",
       "      <td>797.55</td>\n",
       "      <td>446247</td>\n",
       "      <td>809.098</td>\n",
       "      <td>822.37250</td>\n",
       "      <td>799.530976</td>\n",
       "      <td>21.289534</td>\n",
       "    </tr>\n",
       "    <tr>\n",
       "      <th>2024-08-06 15:25:00</th>\n",
       "      <td>797.70</td>\n",
       "      <td>799.75</td>\n",
       "      <td>797.35</td>\n",
       "      <td>799.75</td>\n",
       "      <td>313124</td>\n",
       "      <td>808.773</td>\n",
       "      <td>822.11125</td>\n",
       "      <td>799.570798</td>\n",
       "      <td>39.386720</td>\n",
       "    </tr>\n",
       "  </tbody>\n",
       "</table>\n",
       "<p>30084 rows × 9 columns</p>\n",
       "</div>"
      ],
      "text/plain": [
       "                       open    high     low   close  volume    SMA_S  \\\n",
       "date                                                                   \n",
       "2022-12-20 13:20:00  601.90  602.30  601.75  602.05   33559  601.942   \n",
       "2022-12-20 13:25:00  602.20  602.25  601.40  601.55   48398  601.873   \n",
       "2022-12-20 13:30:00  601.45  601.70  601.00  601.35   53536  601.797   \n",
       "2022-12-20 13:35:00  601.30  601.45  600.50  601.25   65565  601.714   \n",
       "2022-12-20 13:40:00  601.05  601.35  600.55  601.15   63454  601.641   \n",
       "...                     ...     ...     ...     ...     ...      ...   \n",
       "2024-08-06 15:05:00  798.20  799.50  797.65  799.30  534191  810.098   \n",
       "2024-08-06 15:10:00  799.30  799.40  797.15  798.20  432384  809.777   \n",
       "2024-08-06 15:15:00  798.20  798.35  795.65  797.95  671366  809.440   \n",
       "2024-08-06 15:20:00  797.90  798.00  796.00  797.55  446247  809.098   \n",
       "2024-08-06 15:25:00  797.70  799.75  797.35  799.75  313124  808.773   \n",
       "\n",
       "                         SMA_L         ema     RSI_10  \n",
       "date                                                   \n",
       "2022-12-20 13:20:00  606.02150         NaN        NaN  \n",
       "2022-12-20 13:25:00  605.96000         NaN        NaN  \n",
       "2022-12-20 13:30:00  605.89475         NaN        NaN  \n",
       "2022-12-20 13:35:00  605.83050         NaN        NaN  \n",
       "2022-12-20 13:40:00  605.76150         NaN        NaN  \n",
       "...                        ...         ...        ...  \n",
       "2024-08-06 15:05:00  823.19150  800.913757  26.127464  \n",
       "2024-08-06 15:10:00  822.91750  800.420347  23.049063  \n",
       "2024-08-06 15:15:00  822.64925  799.971193  22.383096  \n",
       "2024-08-06 15:20:00  822.37250  799.530976  21.289534  \n",
       "2024-08-06 15:25:00  822.11125  799.570798  39.386720  \n",
       "\n",
       "[30084 rows x 9 columns]"
      ]
     },
     "execution_count": 26,
     "metadata": {},
     "output_type": "execute_result"
    }
   ],
   "source": [
    "data"
   ]
  },
  {
   "cell_type": "code",
   "execution_count": 27,
   "metadata": {},
   "outputs": [
    {
     "data": {
      "application/vnd.plotly.v1+json": {
       "config": {
        "plotlyServerURL": "https://plot.ly"
       },
       "data": [
        {
         "close": [
          815.1,
          815.5,
          815,
          814.95,
          814.65,
          815.3,
          815,
          813.25,
          814,
          812.95,
          813.05,
          812.75,
          812.35,
          812.6,
          811.25,
          812.5,
          811.45,
          809.35,
          806.6,
          806.3,
          806.5,
          806.75,
          804.95,
          803.8,
          803.5,
          801.9,
          804,
          803.3,
          802.65,
          802.7,
          801.15,
          800,
          799.75,
          799.7,
          798.2,
          799.3,
          798.2,
          797.95,
          797.55,
          799.75
         ],
         "high": [
          816,
          815.7,
          815.65,
          815.25,
          815.45,
          815.3,
          815.3,
          815.05,
          814.4,
          814.05,
          813.55,
          813.35,
          812.85,
          813.25,
          812.7,
          812.55,
          812.95,
          811.5,
          810,
          807,
          806.6,
          807,
          807.55,
          805.2,
          804,
          803.85,
          805.5,
          805.7,
          803.5,
          803.9,
          803.3,
          801.75,
          800.95,
          801.8,
          800.3,
          799.5,
          799.4,
          798.35,
          798,
          799.75
         ],
         "low": [
          815,
          815,
          815,
          814.5,
          814,
          814.15,
          814.25,
          813.05,
          813.05,
          812.2,
          812.7,
          812.35,
          811.2,
          811.25,
          810.5,
          811.1,
          811.05,
          808.55,
          805.8,
          805.2,
          804,
          805.1,
          804.55,
          803.25,
          803,
          801.2,
          801.65,
          802.9,
          801.7,
          801.95,
          800.9,
          798.75,
          798.35,
          798.75,
          796.45,
          797.65,
          797.15,
          795.65,
          796,
          797.35
         ],
         "open": [
          815.1,
          815.2,
          815.5,
          815,
          814.95,
          814.65,
          815.3,
          815,
          813.25,
          813.9,
          812.95,
          813.05,
          812.75,
          812.3,
          812.55,
          811.25,
          812.45,
          811.25,
          809.35,
          806.5,
          806.1,
          806.35,
          806.75,
          804.95,
          803.85,
          803.5,
          801.9,
          804,
          803.25,
          802.65,
          802.7,
          801.2,
          799.9,
          799.55,
          799.7,
          798.2,
          799.3,
          798.2,
          797.9,
          797.7
         ],
         "type": "candlestick",
         "x": [
          "2024-08-06T12:10:00",
          "2024-08-06T12:15:00",
          "2024-08-06T12:20:00",
          "2024-08-06T12:25:00",
          "2024-08-06T12:30:00",
          "2024-08-06T12:35:00",
          "2024-08-06T12:40:00",
          "2024-08-06T12:45:00",
          "2024-08-06T12:50:00",
          "2024-08-06T12:55:00",
          "2024-08-06T13:00:00",
          "2024-08-06T13:05:00",
          "2024-08-06T13:10:00",
          "2024-08-06T13:15:00",
          "2024-08-06T13:20:00",
          "2024-08-06T13:25:00",
          "2024-08-06T13:30:00",
          "2024-08-06T13:35:00",
          "2024-08-06T13:40:00",
          "2024-08-06T13:45:00",
          "2024-08-06T13:50:00",
          "2024-08-06T13:55:00",
          "2024-08-06T14:00:00",
          "2024-08-06T14:05:00",
          "2024-08-06T14:10:00",
          "2024-08-06T14:15:00",
          "2024-08-06T14:20:00",
          "2024-08-06T14:25:00",
          "2024-08-06T14:30:00",
          "2024-08-06T14:35:00",
          "2024-08-06T14:40:00",
          "2024-08-06T14:45:00",
          "2024-08-06T14:50:00",
          "2024-08-06T14:55:00",
          "2024-08-06T15:00:00",
          "2024-08-06T15:05:00",
          "2024-08-06T15:10:00",
          "2024-08-06T15:15:00",
          "2024-08-06T15:20:00",
          "2024-08-06T15:25:00"
         ]
        },
        {
         "mode": "lines",
         "name": "EMA",
         "type": "scatter",
         "x": [
          "2024-08-06T12:10:00",
          "2024-08-06T12:15:00",
          "2024-08-06T12:20:00",
          "2024-08-06T12:25:00",
          "2024-08-06T12:30:00",
          "2024-08-06T12:35:00",
          "2024-08-06T12:40:00",
          "2024-08-06T12:45:00",
          "2024-08-06T12:50:00",
          "2024-08-06T12:55:00",
          "2024-08-06T13:00:00",
          "2024-08-06T13:05:00",
          "2024-08-06T13:10:00",
          "2024-08-06T13:15:00",
          "2024-08-06T13:20:00",
          "2024-08-06T13:25:00",
          "2024-08-06T13:30:00",
          "2024-08-06T13:35:00",
          "2024-08-06T13:40:00",
          "2024-08-06T13:45:00",
          "2024-08-06T13:50:00",
          "2024-08-06T13:55:00",
          "2024-08-06T14:00:00",
          "2024-08-06T14:05:00",
          "2024-08-06T14:10:00",
          "2024-08-06T14:15:00",
          "2024-08-06T14:20:00",
          "2024-08-06T14:25:00",
          "2024-08-06T14:30:00",
          "2024-08-06T14:35:00",
          "2024-08-06T14:40:00",
          "2024-08-06T14:45:00",
          "2024-08-06T14:50:00",
          "2024-08-06T14:55:00",
          "2024-08-06T15:00:00",
          "2024-08-06T15:05:00",
          "2024-08-06T15:10:00",
          "2024-08-06T15:15:00",
          "2024-08-06T15:20:00",
          "2024-08-06T15:25:00"
         ],
         "y": [
          815.1600089343333,
          815.2218254917271,
          815.1814935841403,
          815.1394038415693,
          815.0504213249203,
          815.0957992658438,
          815.0783812175085,
          814.7459482688706,
          814.610321310894,
          814.3084447089133,
          814.0796365800198,
          813.8378844745616,
          813.5673600246413,
          813.3914763837973,
          813.0021170412887,
          812.9108230337815,
          812.6452188458212,
          812.0460881465809,
          811.055890301748,
          810.1911829741574,
          809.5200587970379,
          809.016411743031,
          808.2770641533889,
          807.4630524891363,
          806.7424974911115,
          805.8620434018185,
          805.5234900560332,
          805.1192191367544,
          804.670270202799,
          804.3120392568355,
          803.73712302832,
          803.05764611408,
          802.4562559115199,
          801.9551184730617,
          801.2723696597777,
          800.9137569943636,
          800.420346631752,
          799.9711926987061,
          799.5309758443958,
          799.570798418142
         ]
        }
       ],
       "layout": {
        "template": {
         "data": {
          "bar": [
           {
            "error_x": {
             "color": "#2a3f5f"
            },
            "error_y": {
             "color": "#2a3f5f"
            },
            "marker": {
             "line": {
              "color": "#E5ECF6",
              "width": 0.5
             },
             "pattern": {
              "fillmode": "overlay",
              "size": 10,
              "solidity": 0.2
             }
            },
            "type": "bar"
           }
          ],
          "barpolar": [
           {
            "marker": {
             "line": {
              "color": "#E5ECF6",
              "width": 0.5
             },
             "pattern": {
              "fillmode": "overlay",
              "size": 10,
              "solidity": 0.2
             }
            },
            "type": "barpolar"
           }
          ],
          "carpet": [
           {
            "aaxis": {
             "endlinecolor": "#2a3f5f",
             "gridcolor": "white",
             "linecolor": "white",
             "minorgridcolor": "white",
             "startlinecolor": "#2a3f5f"
            },
            "baxis": {
             "endlinecolor": "#2a3f5f",
             "gridcolor": "white",
             "linecolor": "white",
             "minorgridcolor": "white",
             "startlinecolor": "#2a3f5f"
            },
            "type": "carpet"
           }
          ],
          "choropleth": [
           {
            "colorbar": {
             "outlinewidth": 0,
             "ticks": ""
            },
            "type": "choropleth"
           }
          ],
          "contour": [
           {
            "colorbar": {
             "outlinewidth": 0,
             "ticks": ""
            },
            "colorscale": [
             [
              0,
              "#0d0887"
             ],
             [
              0.1111111111111111,
              "#46039f"
             ],
             [
              0.2222222222222222,
              "#7201a8"
             ],
             [
              0.3333333333333333,
              "#9c179e"
             ],
             [
              0.4444444444444444,
              "#bd3786"
             ],
             [
              0.5555555555555556,
              "#d8576b"
             ],
             [
              0.6666666666666666,
              "#ed7953"
             ],
             [
              0.7777777777777778,
              "#fb9f3a"
             ],
             [
              0.8888888888888888,
              "#fdca26"
             ],
             [
              1,
              "#f0f921"
             ]
            ],
            "type": "contour"
           }
          ],
          "contourcarpet": [
           {
            "colorbar": {
             "outlinewidth": 0,
             "ticks": ""
            },
            "type": "contourcarpet"
           }
          ],
          "heatmap": [
           {
            "colorbar": {
             "outlinewidth": 0,
             "ticks": ""
            },
            "colorscale": [
             [
              0,
              "#0d0887"
             ],
             [
              0.1111111111111111,
              "#46039f"
             ],
             [
              0.2222222222222222,
              "#7201a8"
             ],
             [
              0.3333333333333333,
              "#9c179e"
             ],
             [
              0.4444444444444444,
              "#bd3786"
             ],
             [
              0.5555555555555556,
              "#d8576b"
             ],
             [
              0.6666666666666666,
              "#ed7953"
             ],
             [
              0.7777777777777778,
              "#fb9f3a"
             ],
             [
              0.8888888888888888,
              "#fdca26"
             ],
             [
              1,
              "#f0f921"
             ]
            ],
            "type": "heatmap"
           }
          ],
          "heatmapgl": [
           {
            "colorbar": {
             "outlinewidth": 0,
             "ticks": ""
            },
            "colorscale": [
             [
              0,
              "#0d0887"
             ],
             [
              0.1111111111111111,
              "#46039f"
             ],
             [
              0.2222222222222222,
              "#7201a8"
             ],
             [
              0.3333333333333333,
              "#9c179e"
             ],
             [
              0.4444444444444444,
              "#bd3786"
             ],
             [
              0.5555555555555556,
              "#d8576b"
             ],
             [
              0.6666666666666666,
              "#ed7953"
             ],
             [
              0.7777777777777778,
              "#fb9f3a"
             ],
             [
              0.8888888888888888,
              "#fdca26"
             ],
             [
              1,
              "#f0f921"
             ]
            ],
            "type": "heatmapgl"
           }
          ],
          "histogram": [
           {
            "marker": {
             "pattern": {
              "fillmode": "overlay",
              "size": 10,
              "solidity": 0.2
             }
            },
            "type": "histogram"
           }
          ],
          "histogram2d": [
           {
            "colorbar": {
             "outlinewidth": 0,
             "ticks": ""
            },
            "colorscale": [
             [
              0,
              "#0d0887"
             ],
             [
              0.1111111111111111,
              "#46039f"
             ],
             [
              0.2222222222222222,
              "#7201a8"
             ],
             [
              0.3333333333333333,
              "#9c179e"
             ],
             [
              0.4444444444444444,
              "#bd3786"
             ],
             [
              0.5555555555555556,
              "#d8576b"
             ],
             [
              0.6666666666666666,
              "#ed7953"
             ],
             [
              0.7777777777777778,
              "#fb9f3a"
             ],
             [
              0.8888888888888888,
              "#fdca26"
             ],
             [
              1,
              "#f0f921"
             ]
            ],
            "type": "histogram2d"
           }
          ],
          "histogram2dcontour": [
           {
            "colorbar": {
             "outlinewidth": 0,
             "ticks": ""
            },
            "colorscale": [
             [
              0,
              "#0d0887"
             ],
             [
              0.1111111111111111,
              "#46039f"
             ],
             [
              0.2222222222222222,
              "#7201a8"
             ],
             [
              0.3333333333333333,
              "#9c179e"
             ],
             [
              0.4444444444444444,
              "#bd3786"
             ],
             [
              0.5555555555555556,
              "#d8576b"
             ],
             [
              0.6666666666666666,
              "#ed7953"
             ],
             [
              0.7777777777777778,
              "#fb9f3a"
             ],
             [
              0.8888888888888888,
              "#fdca26"
             ],
             [
              1,
              "#f0f921"
             ]
            ],
            "type": "histogram2dcontour"
           }
          ],
          "mesh3d": [
           {
            "colorbar": {
             "outlinewidth": 0,
             "ticks": ""
            },
            "type": "mesh3d"
           }
          ],
          "parcoords": [
           {
            "line": {
             "colorbar": {
              "outlinewidth": 0,
              "ticks": ""
             }
            },
            "type": "parcoords"
           }
          ],
          "pie": [
           {
            "automargin": true,
            "type": "pie"
           }
          ],
          "scatter": [
           {
            "fillpattern": {
             "fillmode": "overlay",
             "size": 10,
             "solidity": 0.2
            },
            "type": "scatter"
           }
          ],
          "scatter3d": [
           {
            "line": {
             "colorbar": {
              "outlinewidth": 0,
              "ticks": ""
             }
            },
            "marker": {
             "colorbar": {
              "outlinewidth": 0,
              "ticks": ""
             }
            },
            "type": "scatter3d"
           }
          ],
          "scattercarpet": [
           {
            "marker": {
             "colorbar": {
              "outlinewidth": 0,
              "ticks": ""
             }
            },
            "type": "scattercarpet"
           }
          ],
          "scattergeo": [
           {
            "marker": {
             "colorbar": {
              "outlinewidth": 0,
              "ticks": ""
             }
            },
            "type": "scattergeo"
           }
          ],
          "scattergl": [
           {
            "marker": {
             "colorbar": {
              "outlinewidth": 0,
              "ticks": ""
             }
            },
            "type": "scattergl"
           }
          ],
          "scattermapbox": [
           {
            "marker": {
             "colorbar": {
              "outlinewidth": 0,
              "ticks": ""
             }
            },
            "type": "scattermapbox"
           }
          ],
          "scatterpolar": [
           {
            "marker": {
             "colorbar": {
              "outlinewidth": 0,
              "ticks": ""
             }
            },
            "type": "scatterpolar"
           }
          ],
          "scatterpolargl": [
           {
            "marker": {
             "colorbar": {
              "outlinewidth": 0,
              "ticks": ""
             }
            },
            "type": "scatterpolargl"
           }
          ],
          "scatterternary": [
           {
            "marker": {
             "colorbar": {
              "outlinewidth": 0,
              "ticks": ""
             }
            },
            "type": "scatterternary"
           }
          ],
          "surface": [
           {
            "colorbar": {
             "outlinewidth": 0,
             "ticks": ""
            },
            "colorscale": [
             [
              0,
              "#0d0887"
             ],
             [
              0.1111111111111111,
              "#46039f"
             ],
             [
              0.2222222222222222,
              "#7201a8"
             ],
             [
              0.3333333333333333,
              "#9c179e"
             ],
             [
              0.4444444444444444,
              "#bd3786"
             ],
             [
              0.5555555555555556,
              "#d8576b"
             ],
             [
              0.6666666666666666,
              "#ed7953"
             ],
             [
              0.7777777777777778,
              "#fb9f3a"
             ],
             [
              0.8888888888888888,
              "#fdca26"
             ],
             [
              1,
              "#f0f921"
             ]
            ],
            "type": "surface"
           }
          ],
          "table": [
           {
            "cells": {
             "fill": {
              "color": "#EBF0F8"
             },
             "line": {
              "color": "white"
             }
            },
            "header": {
             "fill": {
              "color": "#C8D4E3"
             },
             "line": {
              "color": "white"
             }
            },
            "type": "table"
           }
          ]
         },
         "layout": {
          "annotationdefaults": {
           "arrowcolor": "#2a3f5f",
           "arrowhead": 0,
           "arrowwidth": 1
          },
          "autotypenumbers": "strict",
          "coloraxis": {
           "colorbar": {
            "outlinewidth": 0,
            "ticks": ""
           }
          },
          "colorscale": {
           "diverging": [
            [
             0,
             "#8e0152"
            ],
            [
             0.1,
             "#c51b7d"
            ],
            [
             0.2,
             "#de77ae"
            ],
            [
             0.3,
             "#f1b6da"
            ],
            [
             0.4,
             "#fde0ef"
            ],
            [
             0.5,
             "#f7f7f7"
            ],
            [
             0.6,
             "#e6f5d0"
            ],
            [
             0.7,
             "#b8e186"
            ],
            [
             0.8,
             "#7fbc41"
            ],
            [
             0.9,
             "#4d9221"
            ],
            [
             1,
             "#276419"
            ]
           ],
           "sequential": [
            [
             0,
             "#0d0887"
            ],
            [
             0.1111111111111111,
             "#46039f"
            ],
            [
             0.2222222222222222,
             "#7201a8"
            ],
            [
             0.3333333333333333,
             "#9c179e"
            ],
            [
             0.4444444444444444,
             "#bd3786"
            ],
            [
             0.5555555555555556,
             "#d8576b"
            ],
            [
             0.6666666666666666,
             "#ed7953"
            ],
            [
             0.7777777777777778,
             "#fb9f3a"
            ],
            [
             0.8888888888888888,
             "#fdca26"
            ],
            [
             1,
             "#f0f921"
            ]
           ],
           "sequentialminus": [
            [
             0,
             "#0d0887"
            ],
            [
             0.1111111111111111,
             "#46039f"
            ],
            [
             0.2222222222222222,
             "#7201a8"
            ],
            [
             0.3333333333333333,
             "#9c179e"
            ],
            [
             0.4444444444444444,
             "#bd3786"
            ],
            [
             0.5555555555555556,
             "#d8576b"
            ],
            [
             0.6666666666666666,
             "#ed7953"
            ],
            [
             0.7777777777777778,
             "#fb9f3a"
            ],
            [
             0.8888888888888888,
             "#fdca26"
            ],
            [
             1,
             "#f0f921"
            ]
           ]
          },
          "colorway": [
           "#636efa",
           "#EF553B",
           "#00cc96",
           "#ab63fa",
           "#FFA15A",
           "#19d3f3",
           "#FF6692",
           "#B6E880",
           "#FF97FF",
           "#FECB52"
          ],
          "font": {
           "color": "#2a3f5f"
          },
          "geo": {
           "bgcolor": "white",
           "lakecolor": "white",
           "landcolor": "#E5ECF6",
           "showlakes": true,
           "showland": true,
           "subunitcolor": "white"
          },
          "hoverlabel": {
           "align": "left"
          },
          "hovermode": "closest",
          "mapbox": {
           "style": "light"
          },
          "paper_bgcolor": "white",
          "plot_bgcolor": "#E5ECF6",
          "polar": {
           "angularaxis": {
            "gridcolor": "white",
            "linecolor": "white",
            "ticks": ""
           },
           "bgcolor": "#E5ECF6",
           "radialaxis": {
            "gridcolor": "white",
            "linecolor": "white",
            "ticks": ""
           }
          },
          "scene": {
           "xaxis": {
            "backgroundcolor": "#E5ECF6",
            "gridcolor": "white",
            "gridwidth": 2,
            "linecolor": "white",
            "showbackground": true,
            "ticks": "",
            "zerolinecolor": "white"
           },
           "yaxis": {
            "backgroundcolor": "#E5ECF6",
            "gridcolor": "white",
            "gridwidth": 2,
            "linecolor": "white",
            "showbackground": true,
            "ticks": "",
            "zerolinecolor": "white"
           },
           "zaxis": {
            "backgroundcolor": "#E5ECF6",
            "gridcolor": "white",
            "gridwidth": 2,
            "linecolor": "white",
            "showbackground": true,
            "ticks": "",
            "zerolinecolor": "white"
           }
          },
          "shapedefaults": {
           "line": {
            "color": "#2a3f5f"
           }
          },
          "ternary": {
           "aaxis": {
            "gridcolor": "white",
            "linecolor": "white",
            "ticks": ""
           },
           "baxis": {
            "gridcolor": "white",
            "linecolor": "white",
            "ticks": ""
           },
           "bgcolor": "#E5ECF6",
           "caxis": {
            "gridcolor": "white",
            "linecolor": "white",
            "ticks": ""
           }
          },
          "title": {
           "x": 0.05
          },
          "xaxis": {
           "automargin": true,
           "gridcolor": "white",
           "linecolor": "white",
           "ticks": "",
           "title": {
            "standoff": 15
           },
           "zerolinecolor": "white",
           "zerolinewidth": 2
          },
          "yaxis": {
           "automargin": true,
           "gridcolor": "white",
           "linecolor": "white",
           "ticks": "",
           "title": {
            "standoff": 15
           },
           "zerolinecolor": "white",
           "zerolinewidth": 2
          }
         }
        }
       }
      }
     },
     "metadata": {},
     "output_type": "display_data"
    }
   ],
   "source": [
    "def plot_ema(data,fig):\n",
    "    fig.add_trace(go.Scatter(x=data.index, y=data['ema'], mode='lines', name='EMA'))\n",
    "    return fig\n",
    "\n",
    "plot_ema(df,fig)    "
   ]
  },
  {
   "cell_type": "code",
   "execution_count": 28,
   "metadata": {},
   "outputs": [],
   "source": [
    "dataF = data.copy()"
   ]
  },
  {
   "cell_type": "code",
   "execution_count": 29,
   "metadata": {},
   "outputs": [],
   "source": [
    "dataF = dataF[dataF[\"high\"] != dataF['low']]"
   ]
  },
  {
   "cell_type": "code",
   "execution_count": null,
   "metadata": {},
   "outputs": [],
   "source": []
  }
 ],
 "metadata": {
  "kernelspec": {
   "display_name": ".venv",
   "language": "python",
   "name": "python3"
  },
  "language_info": {
   "codemirror_mode": {
    "name": "ipython",
    "version": 3
   },
   "file_extension": ".py",
   "mimetype": "text/x-python",
   "name": "python",
   "nbconvert_exporter": "python",
   "pygments_lexer": "ipython3",
   "version": "3.12.3"
  }
 },
 "nbformat": 4,
 "nbformat_minor": 2
}
